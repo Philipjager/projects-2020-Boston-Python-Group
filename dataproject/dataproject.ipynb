{
 "cells": [
  {
   "cell_type": "markdown",
   "metadata": {},
   "source": [
    "# Medicine Prices"
   ]
  },
  {
   "cell_type": "markdown",
   "metadata": {},
   "source": [
    "Imports and set magics:"
   ]
  },
  {
   "cell_type": "code",
   "execution_count": 1,
   "metadata": {},
   "source": [
    
"#Packages"
"import pandas as pd"
"from IPython.display import display"
"import matplotlib.pyplot as plt"
"plt.style.use('seaborn-whitegrid')"
   ]
  },
  {
   "cell_type": "markdown",
   "metadata": {
    "toc-hr-collapsed": true
   },
   "source": [
    "# Read and clean data"
   ]
  },
  {
   "cell_type": "markdown",
   "metadata": {},
   "source": [
    "##Data on medicine prices"
   ]
  },
  {
   "cell_type": "markdown",
   "metadata": {},
   "source": [
    "# Read in of datasets:"
   ]
  },
  {
   "cell_type": "code",
   "execution_count": null,
   "metadata": {},
   "outputs": [],
   "source": [
   "# Directory"
   "import os"

"assert os.path.isdir('data/')"
"assert os.path.isfile('data/medicinpriser_2.xlsx')"

"os.listdir('data/')"

"# Load data"
"filename    = 'data/medicinpriser_2.xlsx'   "    
"filename2   = 'data/substitutiongroups.csv'  "  
"prices      = pd.read_excel(filename)"
"groups      = pd.read_csv(filename2, names=['Varenummer','Substitution'])"
    

   ]
  },
  {
   "cell_type": "code",
   "execution_count": null,
   "metadata": {},
   "outputs": [],
   "source": [
 
"# Merge to group medicine by substitutiongroups"
"medicine = pd.merge(prices,groups,on='Varenummer',how='left')"
    
"# Rearrange order of variables"
"Substitution = medicine['Substitution']"
"medicine.drop(labels=['Substitution'], axis=1,inplace = True)"
"medicine.insert(3, 'Substitution', Substitution)"
    {
   "cell_type": "markdown",
   "metadata": {},
   "source": [
    "# Data cleaning and structuring:"
   ]
  },  
    
 {
   "cell_type": "code",
   "execution_count": null,
   "metadata": {},
   "outputs": [],
   "source": [
    
"# Add prefix to date variables (date variables begins after the first 9) (useful for wide to long)"
"new_names = [(i,'Pris'+str(i)) for i in medicine.iloc[:, 9:].columns.values]"
"medicine.rename(columns = dict(new_names), inplace=True)"
"medicine"
    
"# Keep only Ibruprofen, Paracetamol and Aspirin (Maybe include others)"
"# Mark observations were ATC = N02BE01 (Paracetamol)"
"pain = medicine.ATC.str.contains('N02BE01')"
    
"# Mark observations were ATC = M01AE01 (Ibuprofen)"
"pain |= medicine.ATC.str.contains('M01AE01')"
    
"# Mark observations were ATC = N02BA51 (Aspirin)"
"pain |= medicine.ATC.str.contains('N02BA51') "
    
"# Set medicin equal to painkillers / Drop everything else"
"medicine.loc[pain, :]"
"medicine = medicine.loc[pain == True] "

"# Keep only filmovetrunke tabletter (Maybe include others)"
"# Mark observations were Form = filmovertrunke tab"
"tablet = medicine.Form.str.contains('filmovertrukne tabletter') "
    
"# Mark observations were Form = tabletter"
"tablet |= medicine.Form.str.contains('tabletter') 
"tablet |= medicine.Form.str.contains('brusetabletter') # Mark observations were Form = tabletter"
"medicine.loc[tablet, :]
"medicine = medicine.loc[tablet == True] # Keep only tablets"

"# Keep only register price per daily dose"
"aup_ddd = medicine.Indikator.str.contains('AUP_pr_DDD') # Mark observations were ATC = N02BE01 (Paracetamol)"
"medicine.loc[aup_ddd, :]"
"medicine = medicine.loc[aup_ddd == True] # Keep only price per daily dose"

"# Inspection (Run each line of code individually)"
"medicine"
"medicine['ATC'].value_counts()"
"medicine['Lægemiddel'].value_counts()"
"medicine['Substitution'].value_counts()"
"medicine['Pakning'].value_counts()"
"medicine['Styrke'].value_counts()"
"medicine['Firma'].value_counts()"
"medicine['Indikator'].value_counts()"

" # Wide to long format"
"medicine_long = pd.wide_to_long(medicine, stubnames='Pris', i='Varenummer', j='Dato')"
"medicine_long = medicine_long.reset_index()"
"medicine_long = medicine_long.sort_values(['Varenummer','Dato'])"

"# Drop missing"
"medicine_long.dropna(subset=['Pris'])"
    
"medicine_l.Pris.isnull().mean()"

"# Relative change in prices"
"medicine_l['pct_change'] = medicine_l.groupby(['Varenummer'])['Pris'].pct_change()"
"medicine_l"

"# Take mean prices of the register price of daily dose for Ibuprofen and Paracetamol"
"paracetamol_m=medicine_l.loc[medicine_l['ATC']=='N02BE01', ['Dato','Pris']]"
"paracetamol_m=paracetamol_m.groupby(paracetamol_m['Dato']).mean()"
"paracetamol_m= paracetamol_m.reset_index()"

"ibuprofen_m=medicine_l.loc[medicine_l['ATC']=='M01AE01', ['Dato','Pris']]"
"ibuprofen_m=ibuprofen_m.groupby(ibuprofen_m['Dato']).mean()"
"ibuprofen_m = ibuprofen_m.reset_index()"

"# Relative change in prices"
"medicine_l = medicine_l.dropna(subset=['pct_change'])"
"medicine_l = medicine_l[(medicine_l != 0).all(1)]"

"paracetamol_change=medicine_l.loc[medicine_l['ATC']=='N02BE01', ['Dato','pct_change']]"
"paracetamol_change=paracetamol_change.groupby(paracetamol_change['Dato']).mean()"
"paracetamol_change= paracetamol_change.reset_index()"
"paracetamol_change"

"ibuprofen_change=medicine_l.loc[medicine_l['ATC']=='N02BE01', ['Dato','pct_change']]"
"ibuprofen_change=ibuprofen_change.groupby(ibuprofen_change['Dato']).mean()"
"ibuprofen_change= ibuprofen_change.reset_index()"
"ibuprofen_change"
   ]
  },
  {
   "cell_type": "markdown",
   "metadata": {},
   "source": [
    "# Figures"
   ]
  },
  {
   "cell_type": "code",
   "execution_count": null,
   "metadata": {},
   "outputs": [],
   "source": [
   
"# Mean prices of pain killers"
"ax = plt.gca()"
"ibuprofen_m.plot(x ='Dato', y='Pris', kind = 'line',ax=ax, label='Ibuprofen avg. price')"
"paracetamol_m.plot(x ='Dato', y='Pris', kind = 'line',ax=ax, color='red', label='Paracetamol avg. price')"

"ax.set_xlabel('År')"
"ax.set_ylabel('Price of daily dose (DKK)')"

"plt.show()"

"# Mean of pct. changes in painkillers"
"ax = plt.gca()"
"ibuprofen_change.plot(x ='Dato', y='pct_change', kind = 'line',ax=ax, label='Ibuprofen avg. relative change in price')"

"ax.set_xlabel('År')
"ax.set_ylabel('Average change in daily price (%)')"

"plt.show()"

"ax = plt.gca()"
"paracetamol_change.plot(x ='Dato', y='pct_change', kind = 'line',ax=ax, color='red', label='Paracetamol avg. relative change in price')"

"ax.set_xlabel('År')"
"ax.set_ylabel('Average change in daily price (%)')"

"plt.show()   "
   ]
  },
  
