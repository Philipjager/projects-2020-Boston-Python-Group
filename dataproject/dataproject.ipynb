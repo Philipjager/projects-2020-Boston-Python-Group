{
 "cells": [
  {
   "cell_type": "markdown",
   "metadata": {},
   "source": [
    "> **Note the following:** \n",
    "> 1. This is *not* meant to be an example of an actual **data analysis project**, just an example of how to structure such a project.\n",
    "> 1. Remember the general advice on structuring and commenting your code from [lecture 5](https://numeconcopenhagen.netlify.com/lectures/Workflow_and_debugging).\n",
    "> 1. Remember this [guide](https://www.markdownguide.org/basic-syntax/) on markdown and (a bit of) latex.\n",
    "> 1. Turn on automatic numbering by clicking on the small icon on top of the table of contents in the left sidebar.\n",
    "> 1. The `dataproject.py` file includes a function which will be used multiple times in this notebook."
   ]
  },
  {
   "cell_type": "code",
   "execution_count": null,
   "metadata": {},
   "outputs": [],
   "source": []
  },
  {
   "cell_type": "markdown",
   "metadata": {},
   "source": [
    "# Medicine prices"
   ]
  },
  {
   "cell_type": "markdown",
   "metadata": {},
   "source": [
    "Imports and set magics:"
   ]
  },
  {
   "cell_type": "code",
   "execution_count": null,
   "metadata": {},
   "outputs": [],
   "source": [
    "#Packages\n",
    "import pandas as pd\n",
    "from IPython.display import display\n",
    "import matplotlib.pyplot as plt\n",
    "plt.style.use('seaborn-whitegrid')\n",
    "\n",
    "# Directory\n",
    "import os\n",
    "\n",
    "assert os.path.isdir('data/')\n",
    "assert os.path.isfile('data/medicinpriser_2.xlsx')\n",
    "\n",
    "os.listdir('data/')"
   ]
  },
  {
   "cell_type": "markdown",
   "metadata": {
    "toc-hr-collapsed": true
   },
   "source": [
    "# Read data of medicine"
   ]
  },
  {
   "cell_type": "markdown",
   "metadata": {},
   "source": []
  },
  {
   "cell_type": "markdown",
   "metadata": {},
   "source": [
    "**Read the data of medicine prices** in ``medicinpriser_2.xlsx``:"
   ]
  },
  {
   "cell_type": "code",
   "execution_count": null,
   "metadata": {},
   "outputs": [],
   "source": [
    "# Load data\n",
    "filename    = 'data/medicinpriser_2.xlsx'       \n",
    "filename2   = 'data/substitutiongroups.csv'    \n",
    "prices      = pd.read_excel(filename)\n",
    "groups      = pd.read_csv(filename2, names=['Varenummer','Substitution'])\n",
    "\n",
    "# Merge to group medicine by substitutiongroups\n",
    "medicine = pd.merge(prices,groups,on='Varenummer',how='left')\n",
    "\n",
    "# Rearrange order\n",
    "Substitution = medicine['Substitution']\n",
    "medicine.drop(labels=['Substitution'], axis=1,inplace = True)\n",
    "medicine.insert(3, 'Substitution', Substitution)"
   ]
  },
  {
   "cell_type": "markdown",
   "metadata": {},
   "source": [
    "# Data cleaning and structuring"
   ]
  },
  {
   "cell_type": "markdown",
   "metadata": {},
   "source": [
    "**Keep only relevant data**:"
   ]
  },
  {
   "cell_type": "code",
   "execution_count": null,
   "metadata": {},
   "outputs": [],
   "source": [
    "\n",
    "# Add prefix to date variables (date variables begins after the first 9) (useful for wide to long)\n",
    "new_names = [(i,'Pris'+str(i)) for i in medicine.iloc[:, 9:].columns.values]\n",
    "medicine.rename(columns = dict(new_names), inplace=True)\n",
    "medicine\n",
    "# Keep only Ibruprofen, Paracetamol and Aspirin \n",
    "pain = medicine.ATC.str.contains('N02BE01') # Mark observations were ATC = N02BE01 (Paracetamol)\n",
    "pain |= medicine.ATC.str.contains('M01AE01') # Mark observations were ATC = M01AE01 (Ibuprofen)\n",
    "\n",
    "medicine.loc[pain, :]\n",
    "medicine = medicine.loc[pain == True] # Set medicin equal to painkillers / Drop everything else\n",
    "\n",
    "# Keep only tablets \n",
    "tablet = medicine.Form.str.contains('suppositorier') \n",
    "tablet |= medicine.Form.str.contains('infusionsvæske, opløsning') \n",
    "medicine.loc[tablet, :]\n",
    "medicine = medicine.loc[tablet == False] # Keep only tablets\n",
    "\n",
    "# Keep only register price per daily dose - AUP_pr_DDD \n",
    "aup_ddd = medicine.Indikator.str.contains('AUP_pr_DDD') \n",
    "medicine.loc[aup_ddd, :]\n",
    "medicine = medicine.loc[aup_ddd == True] # Keep only price per daily dose\n",
    "\n",
    "# Inspection (Run each line of code individually)\n",
    "medicine\n",
    "medicine['ATC'].value_counts()\n",
    "medicine['Lægemiddel'].value_counts()\n",
    "medicine['Form'].value_counts()\n",
    "medicine['Substitution'].value_counts()\n",
    "medicine['Pakning'].value_counts()\n",
    "medicine['Styrke'].value_counts()\n",
    "medicine['Firma'].value_counts()\n",
    "medicine['Indikator'].value_counts()\n",
    "\n",
    "# Wide to long format\n",
    "medicine_l = pd.wide_to_long(medicine, stubnames='Pris', i='Varenummer', j='Dato')\n",
    "medicine_l = medicine_l.reset_index()\n",
    "medicine_l = medicine_l.sort_values(['Varenummer','Dato'])\n",
    "\n",
    "# Drop missing\n",
    "medicine_l = medicine_l.dropna(subset=['Pris'])\n",
    "medicine_l.Pris.isnull().mean()"
   ]
  },
  {
   "cell_type": "markdown",
   "metadata": {},
   "source": [
    "## Defining variables for the graphical analysis:"
   ]
  },
  {
   "cell_type": "code",
   "execution_count": null,
   "metadata": {},
   "outputs": [],
   "source": [
    "\n",
    "# Relative change in prices\n",
    "medicine_l['pct_change'] = medicine_l.groupby(['Varenummer'])['Pris'].pct_change()\n",
    "medicine_l\n",
    "\n",
    "# Take mean prices of the register price of daily dose for Ibuprofen and Paracetamol\n",
    "paracetamol_m=medicine_l.loc[medicine_l['ATC']=='N02BE01', ['Dato','Pris']]\n",
    "paracetamol_m=paracetamol_m.groupby(paracetamol_m['Dato']).mean()\n",
    "paracetamol_m= paracetamol_m.reset_index()\n",
    "\n",
    "ibuprofen_m=medicine_l.loc[medicine_l['ATC']=='M01AE01', ['Dato','Pris']]\n",
    "ibuprofen_m=ibuprofen_m.groupby(ibuprofen_m['Dato']).mean()\n",
    "ibuprofen_m = ibuprofen_m.reset_index()\n",
    "\n",
    "# Relative change in prices\n",
    "medicine_l = medicine_l.dropna(subset=['pct_change'])\n",
    "medicine_l = medicine_l[(medicine_l != 0).all(1)]\n",
    "\n",
    "paracetamol_change=medicine_l.loc[medicine_l['ATC']=='N02BE01', ['Dato','pct_change']]\n",
    "paracetamol_change=paracetamol_change.groupby(paracetamol_change['Dato']).mean()\n",
    "paracetamol_change= paracetamol_change.reset_index()\n",
    "paracetamol_change\n",
    "\n",
    "ibuprofen_change=medicine_l.loc[medicine_l['ATC']=='N02BE01', ['Dato','pct_change']]\n",
    "ibuprofen_change=ibuprofen_change.groupby(ibuprofen_change['Dato']).mean()\n",
    "ibuprofen_change= ibuprofen_change.reset_index()\n",
    "ibuprofen_change"
   ]
  },
  {
   "cell_type": "markdown",
   "metadata": {},
   "source": []
  },
  {
   "cell_type": "markdown",
   "metadata": {},
   "source": [
    "## Figures"
   ]
  },
  {
   "cell_type": "markdown",
   "metadata": {},
   "source": [
    " **Mean prices of pain killers**:"
   ]
  },
  {
   "cell_type": "code",
   "execution_count": null,
   "metadata": {},
   "outputs": [],
   "source": [
    "ax = plt.gca()\n",
    "ibuprofen_m.plot(x ='Dato', y='Pris', kind = 'line',ax=ax, label='Ibuprofen avg. price')\n",
    "paracetamol_m.plot(x ='Dato', y='Pris', kind = 'line',ax=ax, color='red', label='Paracetamol avg. price')\n",
    "\n",
    "ax.set_xlabel('År')\n",
    "ax.set_ylabel('Price of daily dose (DKK)')\n",
    "\n",
    "plt.show()"
   ]
  },
  {
   "cell_type": "markdown",
   "metadata": {},
   "source": []
  },
  {
   "cell_type": "markdown",
   "metadata": {},
   "source": [
    "**Mean of pct. changes in painkillers**:"
   ]
  },
  {
   "cell_type": "code",
   "execution_count": null,
   "metadata": {},
   "outputs": [],
   "source": [
    "ax = plt.gca()\n",
    "ibuprofen_change.plot(x ='Dato', y='pct_change', kind = 'line',ax=ax, label='Ibuprofen avg. relative change in price')\n",
    "\n",
    "ax.set_xlabel('År')\n",
    "ax.set_ylabel('Average change in daily price (%)')\n",
    "\n",
    "plt.show()\n",
    "\n",
    "ax = plt.gca()\n",
    "paracetamol_change.plot(x ='Dato', y='pct_change', kind = 'line',ax=ax, color='red', label='Paracetamol avg. relative change in price')\n",
    "\n",
    "ax.set_xlabel('År')\n",
    "ax.set_ylabel('Average change in daily price (%)')\n",
    "\n",
    "plt.show()"
   ]
  }
 ],
 "metadata": {
  "kernelspec": {
   "display_name": "Python 3",
   "language": "python",
   "name": "python3"
  },
  "language_info": {
   "codemirror_mode": {
    "name": "ipython",
    "version": 3
   },
   "file_extension": ".py",
   "mimetype": "text/x-python",
   "name": "python",
   "nbconvert_exporter": "python",
   "pygments_lexer": "ipython3",
   "version": "3.7.4-final"
  },
  "toc-autonumbering": true
 },
 "nbformat": 4,
 "nbformat_minor": 4
}